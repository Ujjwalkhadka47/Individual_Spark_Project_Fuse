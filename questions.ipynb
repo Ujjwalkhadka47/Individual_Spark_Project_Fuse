{
 "cells": [
  {
   "cell_type": "code",
   "execution_count": 31,
   "metadata": {},
   "outputs": [],
   "source": [
    "#Importing the necessary libraries\n",
    "\n",
    "from pyspark.sql import SparkSession\n",
    "from pyspark.sql.functions import  rank, when, row_number, col, desc, year, sum\n",
    "from pyspark.sql.window import Window"
   ]
  },
  {
   "attachments": {},
   "cell_type": "markdown",
   "metadata": {},
   "source": [
    "Initiating the spark session"
   ]
  },
  {
   "cell_type": "code",
   "execution_count": 32,
   "metadata": {},
   "outputs": [],
   "source": [
    "spark = SparkSession.builder.appName('Individual_Spark')\\\n",
    "        .config('spark.driver.extraClassPath','/Users/anujkhadka/Fusemachines47/AllSPARK/Apache-Spark/spark-3.4.1-bin-hadoop3/jars/postgresql-42.6.0.jar')\\\n",
    "        .getOrCreate()"
   ]
  },
  {
   "attachments": {},
   "cell_type": "markdown",
   "metadata": {},
   "source": [
    "Loading the datasets from Postgres"
   ]
  },
  {
   "cell_type": "code",
   "execution_count": 33,
   "metadata": {},
   "outputs": [],
   "source": [
    "revised_final = spark.read \\\n",
    "    .format(\"jdbc\") \\\n",
    "    .option(\"url\", \"jdbc:postgresql://localhost:5432/postgres\") \\\n",
    "    .option(\"dbtable\", \"revised_final\") \\\n",
    "    .option(\"user\", \"ujjwal\") \\\n",
    "    .option(\"password\", \"ujjwal12345\") \\\n",
    "    .option(\"driver\", \"org.postgresql.Driver\") \\\n",
    "    .load()\n"
   ]
  },
  {
   "cell_type": "code",
   "execution_count": 34,
   "metadata": {},
   "outputs": [],
   "source": [
    "goods_final = spark.read \\\n",
    "    .format(\"jdbc\") \\\n",
    "    .option(\"url\", \"jdbc:postgresql://localhost:5432/postgres\") \\\n",
    "    .option(\"dbtable\", \"goods_final\") \\\n",
    "    .option(\"user\", \"ujjwal\") \\\n",
    "    .option(\"password\", \"ujjwal12345\") \\\n",
    "    .option(\"driver\", \"org.postgresql.Driver\") \\\n",
    "    .load()\n"
   ]
  },
  {
   "cell_type": "code",
   "execution_count": 35,
   "metadata": {},
   "outputs": [],
   "source": [
    "country_final = spark.read \\\n",
    "    .format(\"jdbc\") \\\n",
    "    .option(\"url\", \"jdbc:postgresql://localhost:5432/postgres\") \\\n",
    "    .option(\"dbtable\", \"country_final\") \\\n",
    "    .option(\"user\", \"ujjwal\") \\\n",
    "    .option(\"password\", \"ujjwal12345\") \\\n",
    "    .option(\"driver\", \"org.postgresql.Driver\") \\\n",
    "    .load()\n"
   ]
  },
  {
   "cell_type": "code",
   "execution_count": 36,
   "metadata": {},
   "outputs": [],
   "source": [
    "services_final= spark.read \\\n",
    "    .format(\"jdbc\") \\\n",
    "    .option(\"url\", \"jdbc:postgresql://localhost:5432/postgres\") \\\n",
    "    .option(\"dbtable\", \"services_final\") \\\n",
    "    .option(\"user\", \"ujjwal\") \\\n",
    "    .option(\"password\", \"ujjwal12345\") \\\n",
    "    .option(\"driver\", \"org.postgresql.Driver\") \\\n",
    "    .load()"
   ]
  },
  {
   "attachments": {},
   "cell_type": "markdown",
   "metadata": {},
   "source": [
    "Q.1 Compute the following metrics for each country:\n",
    "\n",
    "The sum of total export values.\n",
    "\n",
    "The sum of total import values.\n",
    "\n",
    "The difference between the sum of export and import values as ‘Trade balance’.\n",
    "\n",
    "Now, Join  'revised_final\" table with the 'country_final' table  & filter the result to select the peak countries with the highest trade balance."
   ]
  },
  {
   "cell_type": "code",
   "execution_count": 37,
   "metadata": {},
   "outputs": [
    {
     "name": "stderr",
     "output_type": "stream",
     "text": [
      "23/09/13 14:28:05 WARN WindowExec: No Partition Defined for Window operation! Moving all data to a single partition, this can cause serious performance degradation.\n",
      "23/09/13 14:28:05 WARN WindowExec: No Partition Defined for Window operation! Moving all data to a single partition, this can cause serious performance degradation.\n",
      "23/09/13 14:28:05 WARN WindowExec: No Partition Defined for Window operation! Moving all data to a single partition, this can cause serious performance degradation.\n",
      "23/09/13 14:28:05 WARN WindowExec: No Partition Defined for Window operation! Moving all data to a single partition, this can cause serious performance degradation.\n",
      "23/09/13 14:28:05 WARN WindowExec: No Partition Defined for Window operation! Moving all data to a single partition, this can cause serious performance degradation.\n",
      "23/09/13 14:28:05 WARN WindowExec: No Partition Defined for Window operation! Moving all data to a single partition, this can cause serious performance degradation.\n",
      "[Stage 148:>                                                        (0 + 1) / 1]\r"
     ]
    },
    {
     "name": "stdout",
     "output_type": "stream",
     "text": [
      "+-----------------------------------------+----+---------------+---------------+-------------+\n",
      "|country_label                            |rank|export_value   |import_value   |trade_balance|\n",
      "+-----------------------------------------+----+---------------+---------------+-------------+\n",
      "|China, People's Republic of              |1   |3.3683951304E10|2.378890331E10 |9.895047994E9|\n",
      "|United States of America                 |2   |2.049617077E10 |1.8345995471E10|2.150175299E9|\n",
      "|Algeria                                  |3   |1.893492197E9  |1332102.0      |1.892160095E9|\n",
      "|Hong Kong (Special Administrative Region)|5   |1.963651478E9  |4.86231181E8   |1.477420297E9|\n",
      "|United Arab Emirates                     |6   |1.598095552E9  |2.36545099E8   |1.361550453E9|\n",
      "|Taiwan                                   |7   |2.907311273E9  |1.645299258E9  |1.262012015E9|\n",
      "|Saudi Arabia                             |8   |1.526632326E9  |2.91180509E8   |1.235451817E9|\n",
      "|Destination Unknown - EU                 |9   |9.81089421E8   |3.5167E7       |9.45922421E8 |\n",
      "|Philippines                              |10  |1.562593681E9  |6.21935328E8   |9.40658353E8 |\n",
      "|Fiji                                     |11  |1.223685419E9  |3.10441876E8   |9.13243543E8 |\n",
      "|Indonesia                                |12  |2.906367989E9  |2.040142935E9  |8.66225054E8 |\n",
      "|Netherlands                              |13  |2.046382332E9  |1.346898081E9  |6.99484251E8 |\n",
      "|Sri Lanka                                |14  |7.13693096E8   |1.32571412E8   |5.81121684E8 |\n",
      "|Canada                                   |15  |2.017547912E9  |1.453384059E9  |5.64163853E8 |\n",
      "|Trinidad and Tobago                      |16  |5.39382791E8   |2988940.0      |5.36393851E8 |\n",
      "|Ships' Bunkering                         |17  |4.85357313E8   |0.0            |4.85357313E8 |\n",
      "|Bangladesh                               |18  |8.28283737E8   |3.47877976E8   |4.80405761E8 |\n",
      "|French Polynesia                         |19  |4.91398223E8   |4.3611975E7    |4.47786248E8 |\n",
      "|New Caledonia                            |20  |3.57587957E8   |1.6730034E7    |3.40857923E8 |\n",
      "+-----------------------------------------+----+---------------+---------------+-------------+\n",
      "\n"
     ]
    },
    {
     "name": "stderr",
     "output_type": "stream",
     "text": [
      "23/09/13 14:28:06 WARN WindowExec: No Partition Defined for Window operation! Moving all data to a single partition, this can cause serious performance degradation.\n",
      "23/09/13 14:28:06 WARN WindowExec: No Partition Defined for Window operation! Moving all data to a single partition, this can cause serious performance degradation.\n",
      "23/09/13 14:28:06 WARN WindowExec: No Partition Defined for Window operation! Moving all data to a single partition, this can cause serious performance degradation.\n",
      "23/09/13 14:28:06 WARN WindowExec: No Partition Defined for Window operation! Moving all data to a single partition, this can cause serious performance degradation.\n",
      "                                                                                \r"
     ]
    }
   ],
   "source": [
    "# Extracting / filtering year and Accounts \n",
    "filtered_df = revised_final.filter((year(col(\"time_ref\")) == 2023) & (col(\"account\").isin(\"Exports\", \"Imports\")))\n",
    "\n",
    "trade_balance_df = filtered_df.groupBy(\"country_code\").agg(\n",
    "    sum(\n",
    "        when(col(\"account\") == \"Exports\", col(\"value\"))\n",
    "        .otherwise(-col(\"value\"))\n",
    "    ).alias(\"trade_balance\"),\n",
    "    sum(\n",
    "        when(col(\"account\") == \"Exports\", col(\"value\"))\n",
    "        .otherwise(0)\n",
    "    ).alias(\"export_value\"),\n",
    "    sum(\n",
    "        when(col(\"account\") == \"Imports\", col(\"value\"))\n",
    "        .otherwise(0)\n",
    "    ).alias(\"import_value\")\n",
    ")\n",
    "# Introducing window specifications for ranking countries (desc)\n",
    "window_spec = Window.orderBy(desc(\"trade_balance\"))\n",
    "\n",
    "#using the rank (W.F) to calculate the row number over window specification\n",
    "ranked_df = trade_balance_df.withColumn(\"rank\", row_number().over(window_spec))\n",
    "\n",
    "top_countries_df = ranked_df.filter(col(\"rank\") <= 20)\n",
    "\n",
    "result_df = top_countries_df.join(\n",
    "    country_final,\n",
    "    top_countries_df[\"country_code\"] == country_final[\"country_code\"],\n",
    "    \"inner\"\n",
    ").select(\n",
    "    \"country_label\", \n",
    "    \"rank\",\n",
    "    \"export_value\",\n",
    "    \"import_value\",\n",
    "    \"trade_balance\" \n",
    ")\n",
    "\n",
    "result_df.show(truncate = False)\n"
   ]
  },
  {
   "attachments": {},
   "cell_type": "markdown",
   "metadata": {},
   "source": [
    "Dumping the output back to Postgres"
   ]
  },
  {
   "cell_type": "code",
   "execution_count": 38,
   "metadata": {},
   "outputs": [
    {
     "name": "stderr",
     "output_type": "stream",
     "text": [
      "23/09/13 14:28:06 WARN WindowExec: No Partition Defined for Window operation! Moving all data to a single partition, this can cause serious performance degradation.\n",
      "23/09/13 14:28:06 WARN WindowExec: No Partition Defined for Window operation! Moving all data to a single partition, this can cause serious performance degradation.\n",
      "23/09/13 14:28:06 WARN WindowExec: No Partition Defined for Window operation! Moving all data to a single partition, this can cause serious performance degradation.\n",
      "23/09/13 14:28:06 WARN WindowExec: No Partition Defined for Window operation! Moving all data to a single partition, this can cause serious performance degradation.\n",
      "23/09/13 14:28:06 WARN WindowExec: No Partition Defined for Window operation! Moving all data to a single partition, this can cause serious performance degradation.\n",
      "23/09/13 14:28:06 WARN WindowExec: No Partition Defined for Window operation! Moving all data to a single partition, this can cause serious performance degradation.\n",
      "23/09/13 14:28:07 WARN WindowExec: No Partition Defined for Window operation! Moving all data to a single partition, this can cause serious performance degradation.\n",
      "23/09/13 14:28:07 WARN WindowExec: No Partition Defined for Window operation! Moving all data to a single partition, this can cause serious performance degradation.\n",
      "23/09/13 14:28:07 WARN WindowExec: No Partition Defined for Window operation! Moving all data to a single partition, this can cause serious performance degradation.\n",
      "23/09/13 14:28:07 WARN WindowExec: No Partition Defined for Window operation! Moving all data to a single partition, this can cause serious performance degradation.\n",
      "                                                                                \r"
     ]
    }
   ],
   "source": [
    "result_df.write.format('jdbc').options(url='jdbc:postgresql://localhost:5432/postgres',driver = 'org.postgresql.Driver', dbtable = 'q1_output1', user = 'ujjwal',password='ujjwal12345').mode('overwrite').save()"
   ]
  },
  {
   "attachments": {},
   "cell_type": "markdown",
   "metadata": {},
   "source": [
    "Q.2 Show the comparative study of the average transactions of 'account' column (export & import) for different product types (Goods & Services) from 2020 to 2023 combined in a table and show it in columns using Pivot DataFrame Transformations."
   ]
  },
  {
   "cell_type": "code",
   "execution_count": 39,
   "metadata": {},
   "outputs": [
    {
     "name": "stdout",
     "output_type": "stream",
     "text": [
      "+------------------------+--------------------+--------------------+--------------------+------------------+\n",
      "|country_label           |2020                |2021                |2022                |2023              |\n",
      "+------------------------+--------------------+--------------------+--------------------+------------------+\n",
      "|Algeria                 |2.0381960916666668E7|1.4288990327586208E7|6.2716360384615384E7|1.050414865E8     |\n",
      "|Myanmar                 |1165648.2452830188  |2292425.3766233767  |1431446.8101265824  |423120.75         |\n",
      "|Lithuania               |141195.30841121497  |215586.06           |280860.5533980582   |248225.86363636365|\n",
      "|Turks and Caicos Islands|5298.5              |50809.0             |108757.33333333333  |41095.5           |\n",
      "|Cote d'Ivoire           |1198616.0625        |1233945.5294117648  |1690797.0810810812  |1675611.5         |\n",
      "|Finland                 |177018.1894736842   |105155.19656019656  |95115.64864864865   |171087.97014925373|\n",
      "|Azerbaijan              |2456671.95          |1502020.1379310344  |3068045.64          |1306648.5         |\n",
      "|Seychelles              |21622.08            |42610.90697674418   |57886.99180327869   |38277.49315068493 |\n",
      "|Ukraine                 |417847.9431818182   |426584.3785714286   |325166.1923076923   |426087.1818181818 |\n",
      "|Romania                 |149836.94444444444  |164844.5614973262   |262741.10447761195  |248095.04494382022|\n",
      "|Zambia                  |63675.36            |26124.585365853658  |54416.5             |37244.125         |\n",
      "|Kiribati                |21454.321969696968  |29720.012732615083  |35611.41393442623   |41198.8770053476  |\n",
      "|Sierra Leone            |577678.3125         |336704.05263157893  |397323.9            |780451.875        |\n",
      "|Solomon Islands         |77384.7752956636    |64608.37398373984   |92158.04625346902   |80094.5532591415  |\n",
      "|Netherlands             |1493603.774226804   |1831089.3394919168  |2625277.0219512195  |2706652.4640718563|\n",
      "|Laos                    |27951.594339622643  |30179.072164948455  |37559.525           |24003.52380952381 |\n",
      "|Botswana                |9225.315789473685   |82803.10344827586   |6832.05             |6867.375          |\n",
      "|Mongolia                |679456.9253731343   |204007.6653543307   |151463.5294117647   |100150.325        |\n",
      "|Bahamas                 |109928.0294117647   |78413.16666666667   |158305.2857142857   |172636.5          |\n",
      "|Poland                  |415146.8611111111   |649527.1017964071   |812349.2841409692   |1019346.1794871795|\n",
      "+------------------------+--------------------+--------------------+--------------------+------------------+\n",
      "only showing top 20 rows\n",
      "\n"
     ]
    }
   ],
   "source": [
    "filtered_df = revised_final.filter(\n",
    "    (year(col(\"time_ref\")) >= 2020) & (col(\"account\").isin(\"Exports\")) & (col(\"product_type\") == \"Goods\")\n",
    ")\n",
    "\n",
    "#Extracting year & adding to filtered_df in a new column \"year\" using 'year'function\n",
    "filtered_df = filtered_df.withColumn(\"year\", year(\"time_ref\"))\n",
    "\n",
    "#Grouping filtered_df by country_code into total_account_df & then pivoting it to transform years into separate columns.\n",
    "total_account_df = filtered_df.groupBy(\"country_code\").pivot(\"year\").agg({\"value\": \"avg\"})\n",
    "\n",
    "#Joining total_account_df with country_final using 'country_code' key\n",
    "result_df1 = total_account_df.join(\n",
    "    country_final,\n",
    "    total_account_df[\"country_code\"] == country_final[\"country_code\"],\n",
    "    \"left\"\n",
    ").select(\n",
    "    \"country_label\",\n",
    "    \"2020\",\n",
    "    \"2021\",\n",
    "    \"2022\",\n",
    "    \"2023\"\n",
    ")\n",
    "\n",
    "result_df1.show(truncate = False)"
   ]
  },
  {
   "attachments": {},
   "cell_type": "markdown",
   "metadata": {},
   "source": [
    "Dumping the output back to Postgres"
   ]
  },
  {
   "cell_type": "code",
   "execution_count": 40,
   "metadata": {},
   "outputs": [],
   "source": [
    "# output for first question write\n",
    "result_df1.write.format('jdbc').options(url='jdbc:postgresql://localhost:5432/postgres',driver = 'org.postgresql.Driver', dbtable = 'q2_export_goods', user = 'ujjwal',password='ujjwal12345').mode('overwrite').save()"
   ]
  },
  {
   "cell_type": "code",
   "execution_count": 41,
   "metadata": {},
   "outputs": [
    {
     "name": "stdout",
     "output_type": "stream",
     "text": [
      "+------------------------+------------------+------------------+------------------+------------------+\n",
      "|country_label           |2020              |2021              |2022              |2023              |\n",
      "+------------------------+------------------+------------------+------------------+------------------+\n",
      "|Algeria                 |91256.0625        |113624.70588235294|97372.06896551725 |171590.0          |\n",
      "|Myanmar                 |1072804.8         |684503.4545454546 |387020.3846153846 |1425783.1875      |\n",
      "|Lithuania               |174964.0          |94918.84          |184666.44444444444|383944.25         |\n",
      "|Turks and Caicos Islands|50448.0           |17230.0           |26239.21052631579 |75184.33333333333 |\n",
      "|Cote d'Ivoire           |73614.2           |16262.5           |25023.333333333332|49710.9           |\n",
      "|Finland                 |322475.4666666667 |174508.2068965517 |772234.6333333333 |2018030.125       |\n",
      "|Azerbaijan              |56326.692307692305|10418.07142857143 |14341.7           |42849.357142857145|\n",
      "|Seychelles              |104653.84615384616|98231.0           |114863.31818181818|98664.35714285714 |\n",
      "|St Pierre and Miquelon  |null              |null              |12422.5           |42716.583333333336|\n",
      "|Ukraine                 |791326.7058823529 |431711.9285714286 |315119.28         |360156.1818181818 |\n",
      "|Romania                 |241383.2          |233856.75         |225188.1923076923 |799192.7857142857 |\n",
      "|Zambia                  |322615.2          |172344.63636363635|179611.23076923078|152645.38461538462|\n",
      "|Kiribati                |584344.25         |586980.5714285715 |420255.3157894737 |716868.1          |\n",
      "|Sierra Leone            |50349.0           |2648.0            |10918.2           |16191.545454545454|\n",
      "|Solomon Islands         |1378588.0476190476|981991.46875      |1014446.303030303 |1262579.0625      |\n",
      "|Netherlands             |2489931.5142857144|2534116.3720930233|4869020.088888889 |9533539.44        |\n",
      "|Laos                    |982944.0          |455137.07692307694|398469.2          |723323.0          |\n",
      "|Botswana                |96201.23076923077 |62008.307692307695|37368.71428571428 |106265.66666666667|\n",
      "|Mongolia                |396222.375        |221766.36842105264|221281.96296296295|316754.8181818182 |\n",
      "|Bahamas                 |157101.2          |105208.42857142857|108139.5          |178123.77777777778|\n",
      "+------------------------+------------------+------------------+------------------+------------------+\n",
      "only showing top 20 rows\n",
      "\n"
     ]
    }
   ],
   "source": [
    "filtered_df = revised_final.filter(\n",
    "    (year(col(\"time_ref\")) >= 2020) & (col(\"account\").isin(\"Exports\")) & (col(\"product_type\") == \"Services\")\n",
    ")\n",
    "\n",
    "filtered_df = filtered_df.withColumn(\"year\", year(\"time_ref\"))\n",
    "\n",
    "total_account_df = filtered_df.groupBy(\"country_code\").pivot(\"year\").agg({\"value\": \"avg\"})\n",
    "\n",
    "#Joining total_account_df with country_final using 'country_code' key\n",
    "result_df2 = total_account_df.join(\n",
    "    country_final,\n",
    "    total_account_df[\"country_code\"] == country_final[\"country_code\"],\n",
    "    \"left\"\n",
    ").select(\n",
    "    \"country_label\",\n",
    "    \"2020\",\n",
    "    \"2021\",\n",
    "    \"2022\",\n",
    "    \"2023\"\n",
    ")\n",
    "\n",
    "result_df2.show(truncate = False)\n"
   ]
  },
  {
   "attachments": {},
   "cell_type": "markdown",
   "metadata": {},
   "source": [
    "Dumping the output back to Postgres"
   ]
  },
  {
   "cell_type": "code",
   "execution_count": 42,
   "metadata": {},
   "outputs": [],
   "source": [
    "result_df1.write.format('jdbc').options(url='jdbc:postgresql://localhost:5432/postgres',driver = 'org.postgresql.Driver', dbtable = 'q2_export_services', user = 'ujjwal',password='ujjwal12345').mode('overwrite').save()"
   ]
  },
  {
   "cell_type": "code",
   "execution_count": 43,
   "metadata": {},
   "outputs": [
    {
     "name": "stdout",
     "output_type": "stream",
     "text": [
      "+------------------------+------------------+------------------+------------------+------------------+\n",
      "|country_label           |2020              |2021              |2022              |2023              |\n",
      "+------------------------+------------------+------------------+------------------+------------------+\n",
      "|Algeria                 |13510.714285714286|2768498.234042553 |750324.0882352941 |21886.5           |\n",
      "|Myanmar                 |72032.75480769231 |77712.00735294117 |85455.783847981   |67372.61209964413 |\n",
      "|Lithuania               |65892.56544502618 |116902.9896373057 |124374.63339222615|85715.64669421487 |\n",
      "|Turks and Caicos Islands|385.2             |932.0             |294.0             |83.0              |\n",
      "|Cote d'Ivoire           |541077.0          |124058.88461538461|92846.18181818182 |52495.166666666664|\n",
      "|Finland                 |333713.72647058824|409803.3964365256 |468028.9968895801 |538715.0324074074 |\n",
      "|Azerbaijan              |1520.25           |56132.166666666664|29178.125         |41298.0           |\n",
      "|Seychelles              |130.0             |6337.5            |664.6153846153846 |5904.857142857143 |\n",
      "|St Pierre and Miquelon  |7395.0            |59792.4           |7.0               |22.0              |\n",
      "|Ukraine                 |92352.18384401115 |127209.39649681529|92110.78558225508 |64897.043956043955|\n",
      "|Romania                 |278847.62737642584|229823.29395085067|243716.71060171918|206963.39534883722|\n",
      "|Zambia                  |14431.0           |8648.780487804877 |28329.3           |13555.6875        |\n",
      "|Kiribati                |579.0             |2345.076923076923 |71471.6           |null              |\n",
      "|Sierra Leone            |3926.834645669291 |15417.859030837004|27210.302752293577|11403.731707317073|\n",
      "|Solomon Islands         |521678.78571428574|434390.5975609756 |503015.3918918919 |394510.46341463417|\n",
      "|Netherlands             |591823.2520568437 |698395.7660292464 |801621.0462427746 |829890.1920948616 |\n",
      "|Laos                    |81105.19047619047 |72429.83076923077 |95558.29787234042 |124894.16129032258|\n",
      "|Botswana                |18424.2           |2036.3076923076924|11086.666666666666|7643.4            |\n",
      "|Mongolia                |8705.4            |8161.857142857143 |9411.15           |52802.4           |\n",
      "|Bahamas                 |31350.85714285714 |1789.304347826087 |10546.333333333334|57.0              |\n",
      "+------------------------+------------------+------------------+------------------+------------------+\n",
      "only showing top 20 rows\n",
      "\n"
     ]
    }
   ],
   "source": [
    "filtered_df = revised_final.filter(\n",
    "    (year(col(\"time_ref\")) >= 2020) & (col(\"account\").isin(\"Imports\")) & (col(\"product_type\") == \"Goods\")\n",
    ")\n",
    "\n",
    "#Extracting year & adding to filtered_df in a new column \"year\" using 'year'function\n",
    "filtered_df = filtered_df.withColumn(\"year\", year(\"time_ref\"))\n",
    "\n",
    "#Grouping filtered_df by country_code into total_account_df & then pivoting it to transform years into separate columns.\n",
    "total_account_df = filtered_df.groupBy(\"country_code\").pivot(\"year\").agg({\"value\": \"avg\"})\n",
    "\n",
    "#Joining total_account_df with country_final using 'country_code' key\n",
    "result_df2 = total_account_df.join(\n",
    "    country_final,\n",
    "    total_account_df[\"country_code\"] == country_final[\"country_code\"],\n",
    "    \"left\"\n",
    ").select(\n",
    "    \"country_label\",\n",
    "    \"2020\",\n",
    "    \"2021\",\n",
    "    \"2022\",\n",
    "    \"2023\"\n",
    ")\n",
    "\n",
    "result_df2.show(truncate = False)"
   ]
  },
  {
   "attachments": {},
   "cell_type": "markdown",
   "metadata": {},
   "source": [
    "Dumping the output back to Postgres"
   ]
  },
  {
   "cell_type": "code",
   "execution_count": 44,
   "metadata": {},
   "outputs": [],
   "source": [
    "result_df1.write.format('jdbc').options(url='jdbc:postgresql://localhost:5432/postgres',driver = 'org.postgresql.Driver', dbtable = 'q2_import_goods', user = 'ujjwal',password='ujjwal12345').mode('overwrite').save()"
   ]
  },
  {
   "cell_type": "code",
   "execution_count": 45,
   "metadata": {},
   "outputs": [
    {
     "name": "stdout",
     "output_type": "stream",
     "text": [
      "+------------------------+------------------+------------------+------------------+------------------+\n",
      "|country_label           |2020              |2021              |2022              |2023              |\n",
      "+------------------------+------------------+------------------+------------------+------------------+\n",
      "|Algeria                 |51978.0           |81631.4           |64236.35          |115701.0          |\n",
      "|Myanmar                 |178865.5          |85440.38461538461 |83474.4705882353  |373504.625        |\n",
      "|Lithuania               |320175.0          |358652.2          |105708.11111111111|190071.4          |\n",
      "|Turks and Caicos Islands|56250.28571428572 |21635.85714285714 |29759.15          |93889.63636363637 |\n",
      "|Cote d'Ivoire           |83574.33333333333 |120156.0          |22658.69230769231 |35077.0           |\n",
      "|Finland                 |470337.5          |315817.3888888889 |361824.2380952381 |378502.2727272727 |\n",
      "|Azerbaijan              |135033.7142857143 |153949.66666666666|45845.63157894737 |62763.2           |\n",
      "|Seychelles              |109604.0          |46138.555555555555|48579.833333333336|70624.88888888889 |\n",
      "|St Pierre and Miquelon  |null              |null              |11334.666666666666|38254.5           |\n",
      "|Ukraine                 |662439.75         |508040.0588235294 |135627.875        |130660.28571428571|\n",
      "|Romania                 |215849.57142857142|537474.5294117647 |556109.8823529412 |529620.2222222222 |\n",
      "|Zambia                  |76801.6           |146932.6          |96733.6           |124719.875        |\n",
      "|Kiribati                |431327.8          |403817.0          |493556.08         |585501.0666666667 |\n",
      "|Sierra Leone            |37864.0           |19966.5           |8677.0            |4432.0            |\n",
      "|Solomon Islands         |323036.125        |660113.0454545454 |509405.6060606061 |615754.15         |\n",
      "|Netherlands             |7242012.841269841 |8279671.05        |8941804.142857144 |7427174.7         |\n",
      "|Laos                    |301197.5          |237668.33333333334|239092.16666666666|321055.1666666667 |\n",
      "|Botswana                |null              |57252.0           |96464.42857142857 |172461.63636363635|\n",
      "|Mongolia                |516494.0          |420900.5833333333 |68298.26666666666 |157440.66666666666|\n",
      "|Bahamas                 |49199.5           |85424.66666666667 |75482.06666666667 |68192.88888888889 |\n",
      "+------------------------+------------------+------------------+------------------+------------------+\n",
      "only showing top 20 rows\n",
      "\n"
     ]
    }
   ],
   "source": [
    "filtered_df = revised_final.filter(\n",
    "    (year(col(\"time_ref\")) >= 2020) & (col(\"account\").isin(\"Imports\")) & (col(\"product_type\") == \"Services\")\n",
    ")\n",
    "\n",
    "filtered_df = filtered_df.withColumn(\"year\", year(\"time_ref\"))\n",
    "\n",
    "total_account_df = filtered_df.groupBy(\"country_code\").pivot(\"year\").agg({\"value\": \"avg\"})\n",
    "\n",
    "#Joining total_account_df with country_final using 'country_code' key\n",
    "result_df3 = total_account_df.join(\n",
    "    country_final,\n",
    "    total_account_df[\"country_code\"] == country_final[\"country_code\"],\n",
    "    \"left\"\n",
    ").select(\n",
    "    \"country_label\",\n",
    "    \"2020\",\n",
    "    \"2021\",\n",
    "    \"2022\",\n",
    "    \"2023\"\n",
    ")\n",
    "\n",
    "result_df3.show(truncate = False)"
   ]
  },
  {
   "attachments": {},
   "cell_type": "markdown",
   "metadata": {},
   "source": [
    "Dumping the output back to Postgres"
   ]
  },
  {
   "cell_type": "code",
   "execution_count": 46,
   "metadata": {},
   "outputs": [],
   "source": [
    "result_df3.write.format('jdbc').options(url='jdbc:postgresql://localhost:5432/postgres',driver = 'org.postgresql.Driver', dbtable = 'q2_import_services', user = 'ujjwal',password='ujjwal12345').mode('overwrite').save()"
   ]
  },
  {
   "attachments": {},
   "cell_type": "markdown",
   "metadata": {},
   "source": [
    "Converting csv file to Parquet"
   ]
  },
  {
   "cell_type": "code",
   "execution_count": 47,
   "metadata": {},
   "outputs": [
    {
     "name": "stderr",
     "output_type": "stream",
     "text": [
      "                                                                                \r"
     ]
    }
   ],
   "source": [
    "parquetFilePath = \"./ParquetFile/\"\n",
    "\n",
    "revised_final.write.parquet(f\"{parquetFilePath}/revised_final\", mode=\"overwrite\")"
   ]
  },
  {
   "cell_type": "code",
   "execution_count": null,
   "metadata": {},
   "outputs": [],
   "source": []
  }
 ],
 "metadata": {
  "kernelspec": {
   "display_name": "Python 3",
   "language": "python",
   "name": "python3"
  },
  "language_info": {
   "codemirror_mode": {
    "name": "ipython",
    "version": 3
   },
   "file_extension": ".py",
   "mimetype": "text/x-python",
   "name": "python",
   "nbconvert_exporter": "python",
   "pygments_lexer": "ipython3",
   "version": "3.11.5"
  },
  "orig_nbformat": 4,
  "vscode": {
   "interpreter": {
    "hash": "b0fa6594d8f4cbf19f97940f81e996739fb7646882a419484c72d19e05852a7e"
   }
  }
 },
 "nbformat": 4,
 "nbformat_minor": 2
}
